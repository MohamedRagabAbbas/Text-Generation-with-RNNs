{
 "cells": [
  {
   "cell_type": "code",
   "execution_count": 4,
   "id": "b4a485f1-78cd-42b0-bbfe-cbef9912fc89",
   "metadata": {},
   "outputs": [
    {
     "name": "stdout",
     "output_type": "stream",
     "text": [
      "Collecting livelossplot\n",
      "  Downloading livelossplot-0.5.5-py3-none-any.whl.metadata (8.7 kB)\n",
      "Requirement already satisfied: matplotlib in c:\\users\\auc\\anaconda3\\lib\\site-packages (from livelossplot) (3.8.0)\n",
      "Requirement already satisfied: bokeh in c:\\users\\auc\\anaconda3\\lib\\site-packages (from livelossplot) (3.3.4)\n",
      "Requirement already satisfied: Jinja2>=2.9 in c:\\users\\auc\\anaconda3\\lib\\site-packages (from bokeh->livelossplot) (3.1.3)\n",
      "Requirement already satisfied: contourpy>=1 in c:\\users\\auc\\anaconda3\\lib\\site-packages (from bokeh->livelossplot) (1.2.0)\n",
      "Requirement already satisfied: numpy>=1.16 in c:\\users\\auc\\anaconda3\\lib\\site-packages (from bokeh->livelossplot) (1.24.3)\n",
      "Requirement already satisfied: packaging>=16.8 in c:\\users\\auc\\anaconda3\\lib\\site-packages (from bokeh->livelossplot) (23.1)\n",
      "Requirement already satisfied: pandas>=1.2 in c:\\users\\auc\\anaconda3\\lib\\site-packages (from bokeh->livelossplot) (2.1.4)\n",
      "Requirement already satisfied: pillow>=7.1.0 in c:\\users\\auc\\anaconda3\\lib\\site-packages (from bokeh->livelossplot) (10.2.0)\n",
      "Requirement already satisfied: PyYAML>=3.10 in c:\\users\\auc\\anaconda3\\lib\\site-packages (from bokeh->livelossplot) (6.0.1)\n",
      "Requirement already satisfied: tornado>=5.1 in c:\\users\\auc\\anaconda3\\lib\\site-packages (from bokeh->livelossplot) (6.3.3)\n",
      "Requirement already satisfied: xyzservices>=2021.09.1 in c:\\users\\auc\\anaconda3\\lib\\site-packages (from bokeh->livelossplot) (2022.9.0)\n",
      "Requirement already satisfied: cycler>=0.10 in c:\\users\\auc\\anaconda3\\lib\\site-packages (from matplotlib->livelossplot) (0.11.0)\n",
      "Requirement already satisfied: fonttools>=4.22.0 in c:\\users\\auc\\anaconda3\\lib\\site-packages (from matplotlib->livelossplot) (4.25.0)\n",
      "Requirement already satisfied: kiwisolver>=1.0.1 in c:\\users\\auc\\anaconda3\\lib\\site-packages (from matplotlib->livelossplot) (1.4.4)\n",
      "Requirement already satisfied: pyparsing>=2.3.1 in c:\\users\\auc\\anaconda3\\lib\\site-packages (from matplotlib->livelossplot) (3.0.9)\n",
      "Requirement already satisfied: python-dateutil>=2.7 in c:\\users\\auc\\anaconda3\\lib\\site-packages (from matplotlib->livelossplot) (2.8.2)\n",
      "Requirement already satisfied: MarkupSafe>=2.0 in c:\\users\\auc\\anaconda3\\lib\\site-packages (from Jinja2>=2.9->bokeh->livelossplot) (2.1.3)\n",
      "Requirement already satisfied: pytz>=2020.1 in c:\\users\\auc\\anaconda3\\lib\\site-packages (from pandas>=1.2->bokeh->livelossplot) (2023.3.post1)\n",
      "Requirement already satisfied: tzdata>=2022.1 in c:\\users\\auc\\anaconda3\\lib\\site-packages (from pandas>=1.2->bokeh->livelossplot) (2023.3)\n",
      "Requirement already satisfied: six>=1.5 in c:\\users\\auc\\anaconda3\\lib\\site-packages (from python-dateutil>=2.7->matplotlib->livelossplot) (1.16.0)\n",
      "Downloading livelossplot-0.5.5-py3-none-any.whl (22 kB)\n",
      "Installing collected packages: livelossplot\n",
      "Successfully installed livelossplot-0.5.5\n"
     ]
    }
   ],
   "source": [
    "!pip install livelossplot"
   ]
  },
  {
   "cell_type": "code",
   "execution_count": 5,
   "id": "d296e2a2-15e6-4dba-8adb-fdb42f604769",
   "metadata": {},
   "outputs": [],
   "source": [
    "import tensorflow as tf\n",
    "from tensorflow.keras.preprocessing.text import Tokenizer\n",
    "from tensorflow.keras.preprocessing.sequence import pad_sequences\n",
    "from tensorflow.keras.models import Sequential\n",
    "from tensorflow.keras.layers import Embedding, LSTM, Dense\n",
    "from tensorflow.keras.utils import to_categorical\n",
    "import numpy as np\n",
    "import pandas as pd\n",
    "from livelossplot import PlotLossesKerasTF\n",
    "from livelossplot import PlotLossesKeras\n",
    "from sklearn.model_selection import train_test_split"
   ]
  },
  {
   "cell_type": "code",
   "execution_count": 6,
   "id": "18d5c7c1-80d3-455c-9efc-afa574729ecb",
   "metadata": {},
   "outputs": [],
   "source": [
    "#Loading dataset\n",
    "train1 = pd.read_parquet('dataset/train-00000-of-00002.parquet', engine='pyarrow')\n",
    "train2 = pd.read_parquet('dataset/train-00001-of-00002.parquet', engine='pyarrow')\n",
    "test = pd.read_parquet('dataset/test-00000-of-00001.parquet', engine='pyarrow')\n",
    "validation = pd.read_parquet('dataset/validation-00000-of-00001.parquet', engine='pyarrow')"
   ]
  },
  {
   "cell_type": "code",
   "execution_count": 7,
   "id": "0e2821a8-f116-463a-8e2b-43c9bbc12843",
   "metadata": {},
   "outputs": [],
   "source": [
    "# Concatenate train1 and train 2\n",
    "train = pd.concat([train1, train2], axis=0, ignore_index=True)"
   ]
  },
  {
   "cell_type": "code",
   "execution_count": 8,
   "id": "de4f4d37-c6f0-4a68-870a-0c2a82fa219e",
   "metadata": {},
   "outputs": [],
   "source": [
    "def prepare_text_data(text, max_sequence_len, max_vocab_size=10000):\n",
    "    # Initialize the tokenizer with a limited vocabulary size\n",
    "    tokenizer = Tokenizer(num_words=max_vocab_size)\n",
    "    tokenizer.fit_on_texts([text])\n",
    "    total_words = min(max_vocab_size, len(tokenizer.word_index) + 1)\n",
    "\n",
    "    input_sequences = []\n",
    "    for line in text.split('\\n'):\n",
    "        token_list = tokenizer.texts_to_sequences([line])[0]\n",
    "        for i in range(1, len(token_list)):\n",
    "            n_gram_sequence = token_list[:i+1]\n",
    "            input_sequences.append(n_gram_sequence)\n",
    "\n",
    "    input_sequences = np.array(pad_sequences(input_sequences, maxlen=max_sequence_len, padding='pre'))\n",
    "\n",
    "    predictors, label = input_sequences[:,:-1], input_sequences[:,-1]\n",
    "    label = to_categorical(label, num_classes=total_words)\n",
    "\n",
    "    return predictors, label, tokenizer, total_words"
   ]
  },
  {
   "cell_type": "code",
   "execution_count": 9,
   "id": "0cfe6ec7-b1b4-47ca-8173-8da0b2c4cc8a",
   "metadata": {},
   "outputs": [
    {
     "data": {
      "text/plain": [
       "(array([[0, 0, 0, 0, 0, 0, 0, 0, 0, 0, 0, 0, 0, 1],\n",
       "        [0, 0, 0, 0, 0, 0, 0, 0, 0, 0, 0, 0, 1, 2]]),\n",
       " array([[0., 0., 1., 0.],\n",
       "        [0., 0., 0., 1.]]),\n",
       " <keras.src.legacy.preprocessing.text.Tokenizer at 0x11927a17290>,\n",
       " 4)"
      ]
     },
     "execution_count": 9,
     "metadata": {},
     "output_type": "execute_result"
    }
   ],
   "source": [
    "prepare_text_data(train.iloc[1].text,15)"
   ]
  },
  {
   "cell_type": "code",
   "execution_count": 10,
   "id": "2946e3b0-9d96-4286-9d4d-61ee9f4852cb",
   "metadata": {},
   "outputs": [],
   "source": [
    "def build_model(max_sequence_len, total_words):\n",
    "    model = tf.keras.Sequential([\n",
    "        tf.keras.layers.Embedding(total_words, 64, input_length=max_sequence_len-1),\n",
    "        tf.keras.layers.Bidirectional(tf.keras.layers.LSTM(64, return_sequences=True)),\n",
    "        tf.keras.layers.Dropout(0.2),\n",
    "        tf.keras.layers.LSTM(32),\n",
    "        tf.keras.layers.Dense(total_words, activation='softmax')\n",
    "    ])\n",
    "    model.compile(loss='categorical_crossentropy', optimizer='adam', metrics=['accuracy'])\n",
    "    return model"
   ]
  },
  {
   "cell_type": "code",
   "execution_count": 14,
   "id": "b8eabf2a-49a1-4f24-a0f1-3f31c7b17035",
   "metadata": {},
   "outputs": [
    {
     "data": {
      "image/png": "[encoded data removed]",
      "text/plain": [
       "<Figure size 1200x800 with 2 Axes>"
      ]
     },
     "metadata": {},
     "output_type": "display_data"
    },
    {
     "name": "stdout",
     "output_type": "stream",
     "text": [
      "accuracy\n",
      "\taccuracy         \t (min:    0.227, max:    0.227, cur:    0.227)\n",
      "Loss\n",
      "\tloss             \t (min:    3.377, max:    3.377, cur:    3.377)\n",
      "\u001b[1m27838/27838\u001b[0m \u001b[32m━━━━━━━━━━━━━━━━━━━━\u001b[0m\u001b[37m\u001b[0m \u001b[1m541s\u001b[0m 19ms/step - accuracy: 0.2202 - loss: 3.4399\n"
     ]
    },
    {
     "name": "stderr",
     "output_type": "stream",
     "text": [
      "WARNING:absl:You are saving your model as an HDF5 file via `model.save()` or `keras.saving.save_model(model)`. This file format is considered legacy. We recommend using instead the native Keras format, e.g. `model.save('my_model.keras')` or `keras.saving.save_model(model, 'my_model.keras')`. \n"
     ]
    }
   ],
   "source": [
    "# Combine text data for tokenization\n",
    "if train is not None:\n",
    "    train_data, _ = train_test_split(train, test_size=0.8, random_state=5)\n",
    "    combined_text = ' '.join(train_data['text'].tolist())\n",
    "\n",
    "    # Tokenize and prepare sequences\n",
    "    max_sequence_len = 5\n",
    "    max_vocab_size = 100  # Limit vocabulary size\n",
    "    predictors, label, tokenizer, total_words = prepare_text_data(combined_text, max_sequence_len,max_vocab_size)\n",
    "\n",
    "    # Build and compile the model\n",
    "    model = build_model(max_sequence_len, total_words)\n",
    "\n",
    "    # Train the model\n",
    "    #model.fit(predictors, label, epochs=100, verbose=1)\n",
    "    model.fit(predictors, label, epochs=1, batch_size=256, verbose=1, callbacks=[PlotLossesKeras()])\n",
    "\n",
    "    # Save the model\n",
    "    model.save('/content/drive/My Drive/Text-Generation-with-RNNs/models/text_generation_model.h5')"
   ]
  },
  {
   "cell_type": "code",
   "execution_count": 16,
   "id": "e9d25da8-ba4c-4fb2-95ff-cad68406640f",
   "metadata": {},
   "outputs": [],
   "source": [
    "# Function to generate text\n",
    "def generate_text(seed_text, next_words, model, max_sequence_len):\n",
    "    for _ in range(next_words):\n",
    "        token_list = tokenizer.texts_to_sequences([seed_text])[0]\n",
    "        token_list = pad_sequences([token_list], maxlen=max_sequence_len-1, padding='pre')\n",
    "        predicted = model.predict(token_list, verbose=0)\n",
    "        predicted_word_index = np.argmax(predicted, axis=-1)\n",
    "        output_word = tokenizer.index_word[predicted_word_index[0]]\n",
    "        seed_text += \" \" + output_word\n",
    "    return seed_text"
   ]
  },
  {
   "cell_type": "code",
   "execution_count": null,
   "id": "9b70203c-3569-4157-8576-b7fc672d749a",
   "metadata": {},
   "outputs": [],
   "source": [
    "# Generate and print sample text\n",
    "print(generate_text(\"Once upon a time playing\", 5, model, max_sequence_len))"
   ]
  },
  {
   "cell_type": "code",
   "execution_count": null,
   "id": "3a631daf-8862-4d35-9a1c-ec734d0d0128",
   "metadata": {},
   "outputs": [],
   "source": []
  }
 ],
 "metadata": {
  "kernelspec": {
   "display_name": "Python 3 (ipykernel)",
   "language": "python",
   "name": "python3"
  },
  "language_info": {
   "codemirror_mode": {
    "name": "ipython",
    "version": 3
   },
   "file_extension": ".py",
   "mimetype": "text/x-python",
   "name": "python",
   "nbconvert_exporter": "python",
   "pygments_lexer": "ipython3",
   "version": "3.11.7"
  }
 },
 "nbformat": 4,
 "nbformat_minor": 5
}
