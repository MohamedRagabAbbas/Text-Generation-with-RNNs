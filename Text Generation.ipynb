{
 "cells": [
  {
   "cell_type": "code",
   "execution_count": 3,
   "id": "d296e2a2-15e6-4dba-8adb-fdb42f604769",
   "metadata": {},
   "outputs": [],
   "source": [
    "import tensorflow as tf\n",
    "from tensorflow.keras.preprocessing.text import Tokenizer\n",
    "from tensorflow.keras.preprocessing.sequence import pad_sequences\n",
    "from tensorflow.keras.models import Sequential\n",
    "from tensorflow.keras.layers import Embedding, LSTM, Dense\n",
    "import numpy as np\n",
    "import pandas as pd"
   ]
  },
  {
   "cell_type": "code",
   "execution_count": 4,
   "id": "18d5c7c1-80d3-455c-9efc-afa574729ecb",
   "metadata": {},
   "outputs": [],
   "source": [
    "#Loading dataset\n",
    "train1 = pd.read_parquet('dataset/train-00000-of-00002.parquet', engine='pyarrow')\n",
    "train2 = pd.read_parquet('dataset/train-00001-of-00002.parquet', engine='pyarrow')\n",
    "test = pd.read_parquet('dataset/test-00000-of-00001.parquet', engine='pyarrow')\n",
    "validation = pd.read_parquet('dataset/validation-00000-of-00001.parquet', engine='pyarrow')"
   ]
  },
  {
   "cell_type": "code",
   "execution_count": 5,
   "id": "0e2821a8-f116-463a-8e2b-43c9bbc12843",
   "metadata": {},
   "outputs": [],
   "source": [
    "# Concatenate train1 and train 2\n",
    "train = pd.concat([train1, train2], axis=0, ignore_index=True)"
   ]
  },
  {
   "cell_type": "code",
   "execution_count": null,
   "id": "de4f4d37-c6f0-4a68-870a-0c2a82fa219e",
   "metadata": {},
   "outputs": [],
   "source": []
  }
 ],
 "metadata": {
  "kernelspec": {
   "display_name": "Python 3 (ipykernel)",
   "language": "python",
   "name": "python3"
  },
  "language_info": {
   "codemirror_mode": {
    "name": "ipython",
    "version": 3
   },
   "file_extension": ".py",
   "mimetype": "text/x-python",
   "name": "python",
   "nbconvert_exporter": "python",
   "pygments_lexer": "ipython3",
   "version": "3.11.7"
  }
 },
 "nbformat": 4,
 "nbformat_minor": 5
}
